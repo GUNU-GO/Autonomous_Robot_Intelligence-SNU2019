{
 "cells": [
  {
   "cell_type": "code",
   "execution_count": 35,
   "metadata": {},
   "outputs": [],
   "source": [
    "import numpy as np\n",
    "import matplotlib.pyplot as plt\n",
    "\n",
    "def back_prop(g, x, z1, z2, w):\n",
    "    return -(g-z2)*z2*(1-z2)*w*z1*(1-z1)*x\n",
    "\n",
    "def back_prop_2(g, z1, z2):\n",
    "    return -(g-z2)*z2*(1-z2)*z1\n",
    "\n",
    "def back_prop_theta(g, z1, z2, w):\n",
    "    return (g-z2)*z2*(1-z2)*w*z1*(1-z1)\n",
    "    \n",
    "def back_prop_theta_2(g, z1):\n",
    "    return (g-z1)*z1*(1-z1)\n",
    "\n",
    "def sigmoid(x):\n",
    "    return 1/(1+np.exp(-x))\n",
    "\n",
    "def feedforward(x1, x2, w1, w2, theta):\n",
    "    return sigmoid(w1*x1 + w2*x2 - theta)"
   ]
  },
  {
   "cell_type": "code",
   "execution_count": 44,
   "metadata": {},
   "outputs": [
    {
     "name": "stdout",
     "output_type": "stream",
     "text": [
      "w1:0.2, w2:0.1, w3:0.2, w4:0.1, w5:0.10344612392437358, w6:0.10386498955160228, theta_1:0, theta_2:0, theta_3:0\n",
      "w1:0.19961767634890176, w2:0.09961599603147572, w3:0.2, w4:0.1, w5:0.09627841373640175, w6:0.09627989533323962, theta_1:0, theta_2:0, theta_3:0\n",
      "w1:0.19961767634890176, w2:0.09961599603147572, w3:0.19964427653995237, w4:0.09964414851740881, w5:0.08911290423208128, w6:0.08869712994687526, theta_1:0, theta_2:0, theta_3:0\n",
      "w1:0.19961767634890176, w2:0.09961599603147572, w3:0.19964427653995237, w4:0.09964414851740881, w5:0.09259271948576855, w6:0.09259990590391004, theta_1:0, theta_2:0, theta_3:0\n",
      "w1:0.19961767634890176, w2:0.09961599603147572, w3:0.19964427653995237, w4:0.09964414851740881, w5:0.09606129208700688, w6:0.09649007269911516, theta_1:0, theta_2:0, theta_3:0\n"
     ]
    }
   ],
   "source": [
    "#initialize\n",
    "w1 = 0.2\n",
    "w2 = 0.1\n",
    "w3 = 0.2\n",
    "w4 = 0.1\n",
    "w5 = 0.1\n",
    "w6 = 0.1\n",
    "theta1 = 0\n",
    "theta2 = 0\n",
    "theta3 = 0\n",
    "#Hyperparameter\n",
    "epoch = 5\n",
    "step = 0.1\n",
    "\n",
    "#train\n",
    "for i in range(epoch):\n",
    "    \n",
    "    if i%4 == 0:\n",
    "        x1 = 0\n",
    "        x2 = 0\n",
    "        g = 1\n",
    "    elif i%4 == 1:\n",
    "        x1 = 1\n",
    "        x2 = 0\n",
    "        g = 0\n",
    "    elif i%4 == 2:\n",
    "        x1 = 0\n",
    "        x2 = 1\n",
    "        g = 0\n",
    "    elif i%4 == 3:\n",
    "        x1 = 0\n",
    "        x2 = 0\n",
    "        g = 1\n",
    "        \n",
    "    z1 = feedforward(x1,x2,w1,w3,theta_1)\n",
    "    z2 = feedforward(x1,x2,w2,w4,theta_2)\n",
    "    z3 = feedforward(z1,z2,w5,w6,theta_3)\n",
    "\n",
    "    w1 = w1 - step*back_prop(g, x1, z1, z3, w5)\n",
    "    w2 = w2 - step*back_prop(g, x1, z2, z3, w6)\n",
    "    w3 = w3 - step*back_prop(g, x2, z1, z3, w5)\n",
    "    w4 = w4 - step*back_prop(g, x2, z2, z3, w6)\n",
    "    w5 = w5 - step*back_prop_2(g, z1, z3)\n",
    "    w6 = w6 - step*back_prop_2(g, z2, z3)\n",
    "    \n",
    "    #theta1 = theta1 - step*back_prop_theta(g, z1, z3, w5)\n",
    "    #theta2 = theta2 - step*back_prop_theta(g, z2, z3, w6)\n",
    "    #theta3 = theta3 - step*back_prop_theta_2(g, z3)\n",
    "    print(\"w1:{}, w2:{}, w3:{}, w4:{}, w5:{}, w6:{}, theta_1:{}, theta_2:{}, theta_3:{}\".format(w1,w2,w3,w4,w5,w6,theta1,theta2,theta3))"
   ]
  },
  {
   "cell_type": "code",
   "execution_count": 45,
   "metadata": {},
   "outputs": [
    {
     "data": {
      "image/png": "[encoded data removed]",
      "text/plain": [
       "<Figure size 432x432 with 1 Axes>"
      ]
     },
     "metadata": {
      "needs_background": "light"
     },
     "output_type": "display_data"
    }
   ],
   "source": [
    "\n",
    "x_list = np.arange(-0.5,1.5,0.1)\n",
    "plt.figure(figsize=(6,6))\n",
    "plt.scatter(0,0,color = \"orange\")\n",
    "plt.scatter(1,0,color = \"blue\")\n",
    "plt.scatter(0,1,color = \"blue\")\n",
    "plt.scatter(1,1,color = \"orange\")\n",
    "plt.plot(x_list, (theta_1-w1*x_list)/w3,color = 'red')\n",
    "plt.plot(x_list, (theta_2-w2*x_list)/w4,color = 'red')\n",
    "plt.show()"
   ]
  },
  {
   "cell_type": "code",
   "execution_count": null,
   "metadata": {},
   "outputs": [],
   "source": []
  }
 ],
 "metadata": {
  "kernelspec": {
   "display_name": "Python 3",
   "language": "python",
   "name": "python3"
  },
  "language_info": {
   "codemirror_mode": {
    "name": "ipython",
    "version": 3
   },
   "file_extension": ".py",
   "mimetype": "text/x-python",
   "name": "python",
   "nbconvert_exporter": "python",
   "pygments_lexer": "ipython3",
   "version": "3.7.3"
  }
 },
 "nbformat": 4,
 "nbformat_minor": 2
}
