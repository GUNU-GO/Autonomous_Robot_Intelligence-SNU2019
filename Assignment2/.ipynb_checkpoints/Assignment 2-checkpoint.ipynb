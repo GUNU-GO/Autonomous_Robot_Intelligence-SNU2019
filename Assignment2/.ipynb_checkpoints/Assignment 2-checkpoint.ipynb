{
 "cells": [
  {
   "cell_type": "code",
   "execution_count": null,
   "metadata": {},
   "outputs": [],
   "source": [
    "import numpy as np\n",
    "import matplotlib.pyplot as plt"
   ]
  },
  {
   "cell_type": "code",
   "execution_count": null,
   "metadata": {},
   "outputs": [],
   "source": [
    "def back_prop(g, x, z1, z2, w):\n",
    "    return -(g-z2)*z2*(1-z2)*w*z1*(1-z1)*x\n",
    "\n",
    "def back_prop_2(g, z1, z2):\n",
    "    return -(g-z2)*z2*(1-z2)*z1\n",
    "\n",
    "def back_prop_theta(g, z1, z2, w):\n",
    "    return (g-z2)*z2*(1-z2)*w*z1*(1-z1)\n",
    "    \n",
    "def back_prop_theta_2(g, z1):\n",
    "    return (g-z1)*z1*(1-z1)\n",
    "\n",
    "def sigmoid(x):\n",
    "    return 1/(1+np.exp(-x))\n",
    "\n",
    "def feedforward(x1, x2, w1, w2, theta):\n",
    "    return sigmoid(w1*x1 + w2*x2 - theta)"
   ]
  },
  {
   "cell_type": "code",
   "execution_count": null,
   "metadata": {},
   "outputs": [],
   "source": [
    "#initialize\n",
    "w1 = 0.2\n",
    "w2 = 0.1\n",
    "w3 = 0.2\n",
    "w4 = 0.1\n",
    "w5 = 0.1\n",
    "w6 = 0.1\n",
    "theta_1 = 0.1\n",
    "theta_2 = 0.1\n",
    "theta_3 = 0.1\n",
    "wb1 = []\n",
    "#Hyperparameter\n",
    "epoch = 200\n",
    "step = 0.1"
   ]
  },
  {
   "cell_type": "code",
   "execution_count": 1,
   "metadata": {},
   "outputs": [
    {
     "ename": "NameError",
     "evalue": "name 'epoch' is not defined",
     "output_type": "error",
     "traceback": [
      "\u001b[1;31m---------------------------------------------------------------------------\u001b[0m",
      "\u001b[1;31mNameError\u001b[0m                                 Traceback (most recent call last)",
      "\u001b[1;32m<ipython-input-1-e32eea3816f1>\u001b[0m in \u001b[0;36m<module>\u001b[1;34m\u001b[0m\n\u001b[0;32m      1\u001b[0m \u001b[1;31m#train\u001b[0m\u001b[1;33m\u001b[0m\u001b[1;33m\u001b[0m\u001b[1;33m\u001b[0m\u001b[0m\n\u001b[1;32m----> 2\u001b[1;33m \u001b[1;32mfor\u001b[0m \u001b[0mi\u001b[0m \u001b[1;32min\u001b[0m \u001b[0mrange\u001b[0m\u001b[1;33m(\u001b[0m\u001b[0mepoch\u001b[0m\u001b[1;33m)\u001b[0m\u001b[1;33m:\u001b[0m\u001b[1;33m\u001b[0m\u001b[1;33m\u001b[0m\u001b[0m\n\u001b[0m\u001b[0;32m      3\u001b[0m \u001b[1;33m\u001b[0m\u001b[0m\n\u001b[0;32m      4\u001b[0m     \u001b[1;32mif\u001b[0m \u001b[0mi\u001b[0m\u001b[1;33m%\u001b[0m\u001b[1;36m4\u001b[0m \u001b[1;33m==\u001b[0m \u001b[1;36m0\u001b[0m\u001b[1;33m:\u001b[0m\u001b[1;33m\u001b[0m\u001b[1;33m\u001b[0m\u001b[0m\n\u001b[0;32m      5\u001b[0m         \u001b[0mx1\u001b[0m \u001b[1;33m=\u001b[0m \u001b[1;36m0\u001b[0m\u001b[1;33m\u001b[0m\u001b[1;33m\u001b[0m\u001b[0m\n",
      "\u001b[1;31mNameError\u001b[0m: name 'epoch' is not defined"
     ]
    }
   ],
   "source": [
    "#train\n",
    "for i in range(epoch):\n",
    "    \n",
    "    if i%4 == 0:\n",
    "        x1 = 0\n",
    "        x2 = 0\n",
    "        g = 1\n",
    "    elif i%4 == 1:\n",
    "        x1 = 1\n",
    "        x2 = 0\n",
    "        g = 0\n",
    "    elif i%4 == 2:\n",
    "        x1 = 0\n",
    "        x2 = 1\n",
    "        g = 0\n",
    "    elif i%4 == 3:\n",
    "        x1 = 0\n",
    "        x2 = 0\n",
    "        g = 1\n",
    "        \n",
    "    z1 = feedforward(x1,x2,w1,w3,theta_1)\n",
    "    z2 = feedforward(x1,x2,w2,w4,theta_2)\n",
    "    z3 = feedforward(z1,z2,w5,w6,theta_3)\n",
    "\n",
    "    w1 = w1 - step*back_prop(g, x1, z1, z3, w5)\n",
    "    w2 = w2 - step*back_prop(g, x1, z2, z3, w6)\n",
    "    w3 = w3 - step*back_prop(g, x2, z1, z3, w5)\n",
    "    w4 = w4 - step*back_prop(g, x2, z2, z3, w6)\n",
    "    w5 = w5 - step*back_prop_2(g, z1, z3)\n",
    "    w6 = w6 - step*back_prop_2(g, z2, z3)\n",
    "    \n",
    "    theta_1 = theta_1 - step*back_prop_theta(g, z1, z3, w5)\n",
    "    theta_2 = theta_2 - step*back_prop_theta(g, z2, z3, w6)\n",
    "    theta_3 = theta_3 - step*back_prop_theta_2(g, z3)\n",
    "    wb1.append(w1)\n",
    "print(w1,w2,w3,w4,w5,w6,theta_1,theta_2,theta_3)"
   ]
  },
  {
   "cell_type": "code",
   "execution_count": 95,
   "metadata": {
    "scrolled": true
   },
   "outputs": [
    {
     "data": {
      "image/png": "[encoded data removed]",
      "text/plain": [
       "<Figure size 432x432 with 1 Axes>"
      ]
     },
     "metadata": {
      "needs_background": "light"
     },
     "output_type": "display_data"
    }
   ],
   "source": [
    "\n",
    "x_list = np.arange(-0.5,1.5,0.1)\n",
    "plt.figure(figsize=(6,6))\n",
    "plt.scatter(0,0,color = \"orange\")\n",
    "plt.scatter(1,0,color = \"blue\")\n",
    "plt.scatter(0,1,color = \"blue\")\n",
    "plt.scatter(1,1,color = \"orange\")\n",
    "plt.plot(x_list, (theta_1-w1*x_list)/w3,color = 'red')\n",
    "plt.plot(x_list, (theta_2-w2*x_list)/w4,color = 'red')\n",
    "plt.show()"
   ]
  },
  {
   "cell_type": "code",
   "execution_count": null,
   "metadata": {},
   "outputs": [],
   "source": [
    "x_list = np.arange(0,200)\n",
    "plt.plot(x_list,wb1)"
   ]
  },
  {
   "cell_type": "code",
   "execution_count": null,
   "metadata": {},
   "outputs": [],
   "source": []
  },
  {
   "cell_type": "code",
   "execution_count": null,
   "metadata": {},
   "outputs": [],
   "source": []
  }
 ],
 "metadata": {
  "kernelspec": {
   "display_name": "Python 3",
   "language": "python",
   "name": "python3"
  },
  "language_info": {
   "codemirror_mode": {
    "name": "ipython",
    "version": 3
   },
   "file_extension": ".py",
   "mimetype": "text/x-python",
   "name": "python",
   "nbconvert_exporter": "python",
   "pygments_lexer": "ipython3",
   "version": "3.7.3"
  }
 },
 "nbformat": 4,
 "nbformat_minor": 2
}
