{
 "cells": [
  {
   "cell_type": "markdown",
   "metadata": {},
   "source": [
    "## XOR을 배우는 2-layer perceptron을 학습시키라."
   ]
  },
  {
   "cell_type": "code",
   "execution_count": 1,
   "metadata": {},
   "outputs": [],
   "source": [
    "import numpy as np\n",
    "import matplotlib.pyplot as plt"
   ]
  },
  {
   "cell_type": "code",
   "execution_count": null,
   "metadata": {},
   "outputs": [],
   "source": [
    "def back_prop(g,y,x):\n",
    "    return #미분값을 반환해줘야함. 이거 보통 관찰값, 예측값, x값이 들어감\n",
    "\n",
    "def sigmoid(x):\n",
    "    return 1/(1+np.exp(-x))\n",
    "\n",
    "def feedforward(x1,x2,w1,w2,theta):\n",
    "    return sigmoid(w1*x1+w2*x2-theta)"
   ]
  },
  {
   "cell_type": "code",
   "execution_count": null,
   "metadata": {},
   "outputs": [],
   "source": [
    "#initialize\n",
    "w1 = \n",
    "w2 = \n",
    "w3 = \n",
    "w4 = \n",
    "w5 =\n",
    "w6 = "
   ]
  },
  {
   "cell_type": "code",
   "execution_count": null,
   "metadata": {},
   "outputs": [],
   "source": [
    "\n",
    "\n",
    "\n",
    "for i in range(epoch):\n",
    "    \n",
    "    if i % 4 == 0:\n",
    "        x1 = 0\n",
    "        x2 = 0\n",
    "        g = 0\n",
    "    elif i % 4 ==1:\n",
    "        x1 = 1\n",
    "        x2 = 0\n",
    "        g = 1\n",
    "    elif i % 4 ==2:\n",
    "        x1 = 0\n",
    "        x2 = 1\n",
    "        g = 1\n",
    "    elif i % 4 ==3:\n",
    "        x1 = 1\n",
    "        x2 = 1\n",
    "        g = 0\n",
    "    \n"
   ]
  }
 ],
 "metadata": {
  "kernelspec": {
   "display_name": "Python 3",
   "language": "python",
   "name": "python3"
  },
  "language_info": {
   "codemirror_mode": {
    "name": "ipython",
    "version": 3
   },
   "file_extension": ".py",
   "mimetype": "text/x-python",
   "name": "python",
   "nbconvert_exporter": "python",
   "pygments_lexer": "ipython3",
   "version": "3.7.3"
  }
 },
 "nbformat": 4,
 "nbformat_minor": 2
}
